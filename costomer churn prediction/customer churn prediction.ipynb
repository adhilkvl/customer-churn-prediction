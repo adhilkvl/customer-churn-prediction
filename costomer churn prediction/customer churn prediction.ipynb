{
 "cells": [
  {
   "cell_type": "code",
   "execution_count": 2,
   "id": "215bee19",
   "metadata": {},
   "outputs": [],
   "source": [
    "import pandas as pd\n",
    "from matplotlib import pyplot as plt\n",
    "import numpy as np\n",
    "%matplotlib inline"
   ]
  },
  {
   "cell_type": "code",
   "execution_count": null,
   "id": "64ec1405",
   "metadata": {},
   "outputs": [],
   "source": [
    "\n"
   ]
  },
  {
   "cell_type": "code",
   "execution_count": 54,
   "id": "74a585bd",
   "metadata": {},
   "outputs": [],
   "source": [
    "import warnings\n",
    "\n",
    "# Suppress SettingWithCopyWarning\n",
    "warnings.filterwarnings('ignore')\n",
    "\n"
   ]
  },
  {
   "cell_type": "code",
   "execution_count": 3,
   "id": "e8ee92b8",
   "metadata": {},
   "outputs": [
    {
     "data": {
      "text/html": [
       "<div>\n",
       "<style scoped>\n",
       "    .dataframe tbody tr th:only-of-type {\n",
       "        vertical-align: middle;\n",
       "    }\n",
       "\n",
       "    .dataframe tbody tr th {\n",
       "        vertical-align: top;\n",
       "    }\n",
       "\n",
       "    .dataframe thead th {\n",
       "        text-align: right;\n",
       "    }\n",
       "</style>\n",
       "<table border=\"1\" class=\"dataframe\">\n",
       "  <thead>\n",
       "    <tr style=\"text-align: right;\">\n",
       "      <th></th>\n",
       "      <th>customerID</th>\n",
       "      <th>gender</th>\n",
       "      <th>SeniorCitizen</th>\n",
       "      <th>Partner</th>\n",
       "      <th>Dependents</th>\n",
       "      <th>tenure</th>\n",
       "      <th>PhoneService</th>\n",
       "      <th>MultipleLines</th>\n",
       "      <th>InternetService</th>\n",
       "      <th>OnlineSecurity</th>\n",
       "      <th>...</th>\n",
       "      <th>DeviceProtection</th>\n",
       "      <th>TechSupport</th>\n",
       "      <th>StreamingTV</th>\n",
       "      <th>StreamingMovies</th>\n",
       "      <th>Contract</th>\n",
       "      <th>PaperlessBilling</th>\n",
       "      <th>PaymentMethod</th>\n",
       "      <th>MonthlyCharges</th>\n",
       "      <th>TotalCharges</th>\n",
       "      <th>Churn</th>\n",
       "    </tr>\n",
       "  </thead>\n",
       "  <tbody>\n",
       "    <tr>\n",
       "      <th>0</th>\n",
       "      <td>7590-VHVEG</td>\n",
       "      <td>Female</td>\n",
       "      <td>0</td>\n",
       "      <td>Yes</td>\n",
       "      <td>No</td>\n",
       "      <td>1</td>\n",
       "      <td>No</td>\n",
       "      <td>No phone service</td>\n",
       "      <td>DSL</td>\n",
       "      <td>No</td>\n",
       "      <td>...</td>\n",
       "      <td>No</td>\n",
       "      <td>No</td>\n",
       "      <td>No</td>\n",
       "      <td>No</td>\n",
       "      <td>Month-to-month</td>\n",
       "      <td>Yes</td>\n",
       "      <td>Electronic check</td>\n",
       "      <td>29.85</td>\n",
       "      <td>29.85</td>\n",
       "      <td>No</td>\n",
       "    </tr>\n",
       "    <tr>\n",
       "      <th>1</th>\n",
       "      <td>5575-GNVDE</td>\n",
       "      <td>Male</td>\n",
       "      <td>0</td>\n",
       "      <td>No</td>\n",
       "      <td>No</td>\n",
       "      <td>34</td>\n",
       "      <td>Yes</td>\n",
       "      <td>No</td>\n",
       "      <td>DSL</td>\n",
       "      <td>Yes</td>\n",
       "      <td>...</td>\n",
       "      <td>Yes</td>\n",
       "      <td>No</td>\n",
       "      <td>No</td>\n",
       "      <td>No</td>\n",
       "      <td>One year</td>\n",
       "      <td>No</td>\n",
       "      <td>Mailed check</td>\n",
       "      <td>56.95</td>\n",
       "      <td>1889.5</td>\n",
       "      <td>No</td>\n",
       "    </tr>\n",
       "    <tr>\n",
       "      <th>2</th>\n",
       "      <td>3668-QPYBK</td>\n",
       "      <td>Male</td>\n",
       "      <td>0</td>\n",
       "      <td>No</td>\n",
       "      <td>No</td>\n",
       "      <td>2</td>\n",
       "      <td>Yes</td>\n",
       "      <td>No</td>\n",
       "      <td>DSL</td>\n",
       "      <td>Yes</td>\n",
       "      <td>...</td>\n",
       "      <td>No</td>\n",
       "      <td>No</td>\n",
       "      <td>No</td>\n",
       "      <td>No</td>\n",
       "      <td>Month-to-month</td>\n",
       "      <td>Yes</td>\n",
       "      <td>Mailed check</td>\n",
       "      <td>53.85</td>\n",
       "      <td>108.15</td>\n",
       "      <td>Yes</td>\n",
       "    </tr>\n",
       "    <tr>\n",
       "      <th>3</th>\n",
       "      <td>7795-CFOCW</td>\n",
       "      <td>Male</td>\n",
       "      <td>0</td>\n",
       "      <td>No</td>\n",
       "      <td>No</td>\n",
       "      <td>45</td>\n",
       "      <td>No</td>\n",
       "      <td>No phone service</td>\n",
       "      <td>DSL</td>\n",
       "      <td>Yes</td>\n",
       "      <td>...</td>\n",
       "      <td>Yes</td>\n",
       "      <td>Yes</td>\n",
       "      <td>No</td>\n",
       "      <td>No</td>\n",
       "      <td>One year</td>\n",
       "      <td>No</td>\n",
       "      <td>Bank transfer (automatic)</td>\n",
       "      <td>42.30</td>\n",
       "      <td>1840.75</td>\n",
       "      <td>No</td>\n",
       "    </tr>\n",
       "    <tr>\n",
       "      <th>4</th>\n",
       "      <td>9237-HQITU</td>\n",
       "      <td>Female</td>\n",
       "      <td>0</td>\n",
       "      <td>No</td>\n",
       "      <td>No</td>\n",
       "      <td>2</td>\n",
       "      <td>Yes</td>\n",
       "      <td>No</td>\n",
       "      <td>Fiber optic</td>\n",
       "      <td>No</td>\n",
       "      <td>...</td>\n",
       "      <td>No</td>\n",
       "      <td>No</td>\n",
       "      <td>No</td>\n",
       "      <td>No</td>\n",
       "      <td>Month-to-month</td>\n",
       "      <td>Yes</td>\n",
       "      <td>Electronic check</td>\n",
       "      <td>70.70</td>\n",
       "      <td>151.65</td>\n",
       "      <td>Yes</td>\n",
       "    </tr>\n",
       "  </tbody>\n",
       "</table>\n",
       "<p>5 rows × 21 columns</p>\n",
       "</div>"
      ],
      "text/plain": [
       "   customerID  gender  SeniorCitizen Partner Dependents  tenure PhoneService  \\\n",
       "0  7590-VHVEG  Female              0     Yes         No       1           No   \n",
       "1  5575-GNVDE    Male              0      No         No      34          Yes   \n",
       "2  3668-QPYBK    Male              0      No         No       2          Yes   \n",
       "3  7795-CFOCW    Male              0      No         No      45           No   \n",
       "4  9237-HQITU  Female              0      No         No       2          Yes   \n",
       "\n",
       "      MultipleLines InternetService OnlineSecurity  ... DeviceProtection  \\\n",
       "0  No phone service             DSL             No  ...               No   \n",
       "1                No             DSL            Yes  ...              Yes   \n",
       "2                No             DSL            Yes  ...               No   \n",
       "3  No phone service             DSL            Yes  ...              Yes   \n",
       "4                No     Fiber optic             No  ...               No   \n",
       "\n",
       "  TechSupport StreamingTV StreamingMovies        Contract PaperlessBilling  \\\n",
       "0          No          No              No  Month-to-month              Yes   \n",
       "1          No          No              No        One year               No   \n",
       "2          No          No              No  Month-to-month              Yes   \n",
       "3         Yes          No              No        One year               No   \n",
       "4          No          No              No  Month-to-month              Yes   \n",
       "\n",
       "               PaymentMethod MonthlyCharges  TotalCharges Churn  \n",
       "0           Electronic check          29.85         29.85    No  \n",
       "1               Mailed check          56.95        1889.5    No  \n",
       "2               Mailed check          53.85        108.15   Yes  \n",
       "3  Bank transfer (automatic)          42.30       1840.75    No  \n",
       "4           Electronic check          70.70        151.65   Yes  \n",
       "\n",
       "[5 rows x 21 columns]"
      ]
     },
     "execution_count": 3,
     "metadata": {},
     "output_type": "execute_result"
    }
   ],
   "source": [
    "df=pd.read_csv(\"Telco-Customer-Churn.csv\")\n",
    "df.head()"
   ]
  },
  {
   "cell_type": "markdown",
   "id": "80b1e8c5",
   "metadata": {},
   "source": [
    "## Exploretary analysis"
   ]
  },
  {
   "cell_type": "code",
   "execution_count": 4,
   "id": "169ecaf6",
   "metadata": {},
   "outputs": [
    {
     "name": "stdout",
     "output_type": "stream",
     "text": [
      "<class 'pandas.core.frame.DataFrame'>\n",
      "RangeIndex: 7043 entries, 0 to 7042\n",
      "Data columns (total 21 columns):\n",
      " #   Column            Non-Null Count  Dtype  \n",
      "---  ------            --------------  -----  \n",
      " 0   customerID        7043 non-null   object \n",
      " 1   gender            7043 non-null   object \n",
      " 2   SeniorCitizen     7043 non-null   int64  \n",
      " 3   Partner           7043 non-null   object \n",
      " 4   Dependents        7043 non-null   object \n",
      " 5   tenure            7043 non-null   int64  \n",
      " 6   PhoneService      7043 non-null   object \n",
      " 7   MultipleLines     7043 non-null   object \n",
      " 8   InternetService   7043 non-null   object \n",
      " 9   OnlineSecurity    7043 non-null   object \n",
      " 10  OnlineBackup      7043 non-null   object \n",
      " 11  DeviceProtection  7043 non-null   object \n",
      " 12  TechSupport       7043 non-null   object \n",
      " 13  StreamingTV       7043 non-null   object \n",
      " 14  StreamingMovies   7043 non-null   object \n",
      " 15  Contract          7043 non-null   object \n",
      " 16  PaperlessBilling  7043 non-null   object \n",
      " 17  PaymentMethod     7043 non-null   object \n",
      " 18  MonthlyCharges    7043 non-null   float64\n",
      " 19  TotalCharges      7043 non-null   object \n",
      " 20  Churn             7043 non-null   object \n",
      "dtypes: float64(1), int64(2), object(18)\n",
      "memory usage: 1.1+ MB\n"
     ]
    }
   ],
   "source": [
    "df.info()"
   ]
  },
  {
   "cell_type": "code",
   "execution_count": 5,
   "id": "bd59a7c1",
   "metadata": {},
   "outputs": [
    {
     "data": {
      "text/html": [
       "<div>\n",
       "<style scoped>\n",
       "    .dataframe tbody tr th:only-of-type {\n",
       "        vertical-align: middle;\n",
       "    }\n",
       "\n",
       "    .dataframe tbody tr th {\n",
       "        vertical-align: top;\n",
       "    }\n",
       "\n",
       "    .dataframe thead th {\n",
       "        text-align: right;\n",
       "    }\n",
       "</style>\n",
       "<table border=\"1\" class=\"dataframe\">\n",
       "  <thead>\n",
       "    <tr style=\"text-align: right;\">\n",
       "      <th></th>\n",
       "      <th>SeniorCitizen</th>\n",
       "      <th>tenure</th>\n",
       "      <th>MonthlyCharges</th>\n",
       "    </tr>\n",
       "  </thead>\n",
       "  <tbody>\n",
       "    <tr>\n",
       "      <th>count</th>\n",
       "      <td>7043.000000</td>\n",
       "      <td>7043.000000</td>\n",
       "      <td>7043.000000</td>\n",
       "    </tr>\n",
       "    <tr>\n",
       "      <th>mean</th>\n",
       "      <td>0.162147</td>\n",
       "      <td>32.371149</td>\n",
       "      <td>64.761692</td>\n",
       "    </tr>\n",
       "    <tr>\n",
       "      <th>std</th>\n",
       "      <td>0.368612</td>\n",
       "      <td>24.559481</td>\n",
       "      <td>30.090047</td>\n",
       "    </tr>\n",
       "    <tr>\n",
       "      <th>min</th>\n",
       "      <td>0.000000</td>\n",
       "      <td>0.000000</td>\n",
       "      <td>18.250000</td>\n",
       "    </tr>\n",
       "    <tr>\n",
       "      <th>25%</th>\n",
       "      <td>0.000000</td>\n",
       "      <td>9.000000</td>\n",
       "      <td>35.500000</td>\n",
       "    </tr>\n",
       "    <tr>\n",
       "      <th>50%</th>\n",
       "      <td>0.000000</td>\n",
       "      <td>29.000000</td>\n",
       "      <td>70.350000</td>\n",
       "    </tr>\n",
       "    <tr>\n",
       "      <th>75%</th>\n",
       "      <td>0.000000</td>\n",
       "      <td>55.000000</td>\n",
       "      <td>89.850000</td>\n",
       "    </tr>\n",
       "    <tr>\n",
       "      <th>max</th>\n",
       "      <td>1.000000</td>\n",
       "      <td>72.000000</td>\n",
       "      <td>118.750000</td>\n",
       "    </tr>\n",
       "  </tbody>\n",
       "</table>\n",
       "</div>"
      ],
      "text/plain": [
       "       SeniorCitizen       tenure  MonthlyCharges\n",
       "count    7043.000000  7043.000000     7043.000000\n",
       "mean        0.162147    32.371149       64.761692\n",
       "std         0.368612    24.559481       30.090047\n",
       "min         0.000000     0.000000       18.250000\n",
       "25%         0.000000     9.000000       35.500000\n",
       "50%         0.000000    29.000000       70.350000\n",
       "75%         0.000000    55.000000       89.850000\n",
       "max         1.000000    72.000000      118.750000"
      ]
     },
     "execution_count": 5,
     "metadata": {},
     "output_type": "execute_result"
    }
   ],
   "source": [
    "df.describe()"
   ]
  },
  {
   "cell_type": "code",
   "execution_count": 11,
   "id": "a91b148d",
   "metadata": {},
   "outputs": [
    {
     "data": {
      "text/plain": [
       "gender              0\n",
       "SeniorCitizen       0\n",
       "Partner             0\n",
       "Dependents          0\n",
       "tenure              0\n",
       "PhoneService        0\n",
       "MultipleLines       0\n",
       "InternetService     0\n",
       "OnlineSecurity      0\n",
       "OnlineBackup        0\n",
       "DeviceProtection    0\n",
       "TechSupport         0\n",
       "StreamingTV         0\n",
       "StreamingMovies     0\n",
       "Contract            0\n",
       "PaperlessBilling    0\n",
       "PaymentMethod       0\n",
       "MonthlyCharges      0\n",
       "TotalCharges        0\n",
       "Churn               0\n",
       "dtype: int64"
      ]
     },
     "execution_count": 11,
     "metadata": {},
     "output_type": "execute_result"
    }
   ],
   "source": [
    "df.isnull().sum()"
   ]
  },
  {
   "cell_type": "code",
   "execution_count": 6,
   "id": "03511237",
   "metadata": {},
   "outputs": [
    {
     "data": {
      "text/html": [
       "<div>\n",
       "<style scoped>\n",
       "    .dataframe tbody tr th:only-of-type {\n",
       "        vertical-align: middle;\n",
       "    }\n",
       "\n",
       "    .dataframe tbody tr th {\n",
       "        vertical-align: top;\n",
       "    }\n",
       "\n",
       "    .dataframe thead th {\n",
       "        text-align: right;\n",
       "    }\n",
       "</style>\n",
       "<table border=\"1\" class=\"dataframe\">\n",
       "  <thead>\n",
       "    <tr style=\"text-align: right;\">\n",
       "      <th></th>\n",
       "      <th>gender</th>\n",
       "      <th>SeniorCitizen</th>\n",
       "      <th>Partner</th>\n",
       "      <th>Dependents</th>\n",
       "      <th>tenure</th>\n",
       "      <th>PhoneService</th>\n",
       "      <th>MultipleLines</th>\n",
       "      <th>InternetService</th>\n",
       "      <th>OnlineSecurity</th>\n",
       "      <th>OnlineBackup</th>\n",
       "      <th>DeviceProtection</th>\n",
       "      <th>TechSupport</th>\n",
       "      <th>StreamingTV</th>\n",
       "      <th>StreamingMovies</th>\n",
       "      <th>Contract</th>\n",
       "      <th>PaperlessBilling</th>\n",
       "      <th>PaymentMethod</th>\n",
       "      <th>MonthlyCharges</th>\n",
       "      <th>TotalCharges</th>\n",
       "      <th>Churn</th>\n",
       "    </tr>\n",
       "  </thead>\n",
       "  <tbody>\n",
       "    <tr>\n",
       "      <th>6874</th>\n",
       "      <td>Female</td>\n",
       "      <td>0</td>\n",
       "      <td>Yes</td>\n",
       "      <td>No</td>\n",
       "      <td>31</td>\n",
       "      <td>Yes</td>\n",
       "      <td>No</td>\n",
       "      <td>DSL</td>\n",
       "      <td>No</td>\n",
       "      <td>No</td>\n",
       "      <td>No</td>\n",
       "      <td>Yes</td>\n",
       "      <td>No</td>\n",
       "      <td>No</td>\n",
       "      <td>Month-to-month</td>\n",
       "      <td>Yes</td>\n",
       "      <td>Mailed check</td>\n",
       "      <td>49.20</td>\n",
       "      <td>1498.55</td>\n",
       "      <td>No</td>\n",
       "    </tr>\n",
       "    <tr>\n",
       "      <th>2941</th>\n",
       "      <td>Male</td>\n",
       "      <td>0</td>\n",
       "      <td>Yes</td>\n",
       "      <td>No</td>\n",
       "      <td>72</td>\n",
       "      <td>Yes</td>\n",
       "      <td>Yes</td>\n",
       "      <td>Fiber optic</td>\n",
       "      <td>Yes</td>\n",
       "      <td>Yes</td>\n",
       "      <td>Yes</td>\n",
       "      <td>No</td>\n",
       "      <td>Yes</td>\n",
       "      <td>No</td>\n",
       "      <td>Two year</td>\n",
       "      <td>Yes</td>\n",
       "      <td>Credit card (automatic)</td>\n",
       "      <td>97.95</td>\n",
       "      <td>7114.25</td>\n",
       "      <td>No</td>\n",
       "    </tr>\n",
       "    <tr>\n",
       "      <th>1295</th>\n",
       "      <td>Female</td>\n",
       "      <td>0</td>\n",
       "      <td>Yes</td>\n",
       "      <td>Yes</td>\n",
       "      <td>70</td>\n",
       "      <td>Yes</td>\n",
       "      <td>Yes</td>\n",
       "      <td>DSL</td>\n",
       "      <td>Yes</td>\n",
       "      <td>No</td>\n",
       "      <td>No</td>\n",
       "      <td>Yes</td>\n",
       "      <td>Yes</td>\n",
       "      <td>Yes</td>\n",
       "      <td>Two year</td>\n",
       "      <td>Yes</td>\n",
       "      <td>Bank transfer (automatic)</td>\n",
       "      <td>80.60</td>\n",
       "      <td>5460.2</td>\n",
       "      <td>No</td>\n",
       "    </tr>\n",
       "    <tr>\n",
       "      <th>2681</th>\n",
       "      <td>Male</td>\n",
       "      <td>0</td>\n",
       "      <td>Yes</td>\n",
       "      <td>No</td>\n",
       "      <td>46</td>\n",
       "      <td>No</td>\n",
       "      <td>No phone service</td>\n",
       "      <td>DSL</td>\n",
       "      <td>Yes</td>\n",
       "      <td>No</td>\n",
       "      <td>Yes</td>\n",
       "      <td>Yes</td>\n",
       "      <td>No</td>\n",
       "      <td>No</td>\n",
       "      <td>Two year</td>\n",
       "      <td>No</td>\n",
       "      <td>Credit card (automatic)</td>\n",
       "      <td>40.40</td>\n",
       "      <td>1842.7</td>\n",
       "      <td>No</td>\n",
       "    </tr>\n",
       "    <tr>\n",
       "      <th>3760</th>\n",
       "      <td>Male</td>\n",
       "      <td>0</td>\n",
       "      <td>No</td>\n",
       "      <td>No</td>\n",
       "      <td>3</td>\n",
       "      <td>Yes</td>\n",
       "      <td>No</td>\n",
       "      <td>Fiber optic</td>\n",
       "      <td>No</td>\n",
       "      <td>No</td>\n",
       "      <td>Yes</td>\n",
       "      <td>No</td>\n",
       "      <td>No</td>\n",
       "      <td>No</td>\n",
       "      <td>Month-to-month</td>\n",
       "      <td>Yes</td>\n",
       "      <td>Credit card (automatic)</td>\n",
       "      <td>73.60</td>\n",
       "      <td>232.5</td>\n",
       "      <td>No</td>\n",
       "    </tr>\n",
       "  </tbody>\n",
       "</table>\n",
       "</div>"
      ],
      "text/plain": [
       "      gender  SeniorCitizen Partner Dependents  tenure PhoneService  \\\n",
       "6874  Female              0     Yes         No      31          Yes   \n",
       "2941    Male              0     Yes         No      72          Yes   \n",
       "1295  Female              0     Yes        Yes      70          Yes   \n",
       "2681    Male              0     Yes         No      46           No   \n",
       "3760    Male              0      No         No       3          Yes   \n",
       "\n",
       "         MultipleLines InternetService OnlineSecurity OnlineBackup  \\\n",
       "6874                No             DSL             No           No   \n",
       "2941               Yes     Fiber optic            Yes          Yes   \n",
       "1295               Yes             DSL            Yes           No   \n",
       "2681  No phone service             DSL            Yes           No   \n",
       "3760                No     Fiber optic             No           No   \n",
       "\n",
       "     DeviceProtection TechSupport StreamingTV StreamingMovies        Contract  \\\n",
       "6874               No         Yes          No              No  Month-to-month   \n",
       "2941              Yes          No         Yes              No        Two year   \n",
       "1295               No         Yes         Yes             Yes        Two year   \n",
       "2681              Yes         Yes          No              No        Two year   \n",
       "3760              Yes          No          No              No  Month-to-month   \n",
       "\n",
       "     PaperlessBilling              PaymentMethod  MonthlyCharges TotalCharges  \\\n",
       "6874              Yes               Mailed check           49.20      1498.55   \n",
       "2941              Yes    Credit card (automatic)           97.95      7114.25   \n",
       "1295              Yes  Bank transfer (automatic)           80.60       5460.2   \n",
       "2681               No    Credit card (automatic)           40.40       1842.7   \n",
       "3760              Yes    Credit card (automatic)           73.60        232.5   \n",
       "\n",
       "     Churn  \n",
       "6874    No  \n",
       "2941    No  \n",
       "1295    No  \n",
       "2681    No  \n",
       "3760    No  "
      ]
     },
     "execution_count": 6,
     "metadata": {},
     "output_type": "execute_result"
    }
   ],
   "source": [
    "df.drop(\"customerID\",axis=\"columns\",inplace=True)\n",
    "df.sample(5)"
   ]
  },
  {
   "cell_type": "code",
   "execution_count": 12,
   "id": "50f942ad",
   "metadata": {},
   "outputs": [
    {
     "data": {
      "text/plain": [
       "array(['29.85', '1889.5', '108.15', ..., '346.45', '306.6', '6844.5'],\n",
       "      dtype=object)"
      ]
     },
     "execution_count": 12,
     "metadata": {},
     "output_type": "execute_result"
    }
   ],
   "source": [
    "df.TotalCharges.values"
   ]
  },
  {
   "cell_type": "code",
   "execution_count": 13,
   "id": "53620405",
   "metadata": {},
   "outputs": [
    {
     "data": {
      "text/plain": [
       "array([ 29.85,  56.95,  53.85, ...,  29.6 ,  74.4 , 105.65])"
      ]
     },
     "execution_count": 13,
     "metadata": {},
     "output_type": "execute_result"
    }
   ],
   "source": [
    "df.MonthlyCharges.values"
   ]
  },
  {
   "cell_type": "code",
   "execution_count": 15,
   "id": "131210e4",
   "metadata": {},
   "outputs": [],
   "source": [
    "#pd.to_numeric(df.TotalCharges)"
   ]
  },
  {
   "cell_type": "code",
   "execution_count": 16,
   "id": "56fb74f8",
   "metadata": {},
   "outputs": [
    {
     "data": {
      "text/plain": [
       "0         29.85\n",
       "1       1889.50\n",
       "2        108.15\n",
       "3       1840.75\n",
       "4        151.65\n",
       "         ...   \n",
       "7038    1990.50\n",
       "7039    7362.90\n",
       "7040     346.45\n",
       "7041     306.60\n",
       "7042    6844.50\n",
       "Name: TotalCharges, Length: 7043, dtype: float64"
      ]
     },
     "execution_count": 16,
     "metadata": {},
     "output_type": "execute_result"
    }
   ],
   "source": [
    "pd.to_numeric(df.TotalCharges,errors=\"coerce\")"
   ]
  },
  {
   "cell_type": "code",
   "execution_count": 18,
   "id": "c6f1c979",
   "metadata": {},
   "outputs": [
    {
     "data": {
      "text/plain": [
       "0       False\n",
       "1       False\n",
       "2       False\n",
       "3       False\n",
       "4       False\n",
       "        ...  \n",
       "7038    False\n",
       "7039    False\n",
       "7040    False\n",
       "7041    False\n",
       "7042    False\n",
       "Name: TotalCharges, Length: 7043, dtype: bool"
      ]
     },
     "execution_count": 18,
     "metadata": {},
     "output_type": "execute_result"
    }
   ],
   "source": [
    "pd.to_numeric(df.TotalCharges,errors=\"coerce\").isnull()"
   ]
  },
  {
   "cell_type": "code",
   "execution_count": 19,
   "id": "514d4406",
   "metadata": {},
   "outputs": [
    {
     "data": {
      "text/plain": [
       "11"
      ]
     },
     "execution_count": 19,
     "metadata": {},
     "output_type": "execute_result"
    }
   ],
   "source": [
    "pd.to_numeric(df.TotalCharges,errors=\"coerce\").isnull().sum()"
   ]
  },
  {
   "cell_type": "code",
   "execution_count": 20,
   "id": "c002e542",
   "metadata": {},
   "outputs": [
    {
     "data": {
      "text/html": [
       "<div>\n",
       "<style scoped>\n",
       "    .dataframe tbody tr th:only-of-type {\n",
       "        vertical-align: middle;\n",
       "    }\n",
       "\n",
       "    .dataframe tbody tr th {\n",
       "        vertical-align: top;\n",
       "    }\n",
       "\n",
       "    .dataframe thead th {\n",
       "        text-align: right;\n",
       "    }\n",
       "</style>\n",
       "<table border=\"1\" class=\"dataframe\">\n",
       "  <thead>\n",
       "    <tr style=\"text-align: right;\">\n",
       "      <th></th>\n",
       "      <th>gender</th>\n",
       "      <th>SeniorCitizen</th>\n",
       "      <th>Partner</th>\n",
       "      <th>Dependents</th>\n",
       "      <th>tenure</th>\n",
       "      <th>PhoneService</th>\n",
       "      <th>MultipleLines</th>\n",
       "      <th>InternetService</th>\n",
       "      <th>OnlineSecurity</th>\n",
       "      <th>OnlineBackup</th>\n",
       "      <th>DeviceProtection</th>\n",
       "      <th>TechSupport</th>\n",
       "      <th>StreamingTV</th>\n",
       "      <th>StreamingMovies</th>\n",
       "      <th>Contract</th>\n",
       "      <th>PaperlessBilling</th>\n",
       "      <th>PaymentMethod</th>\n",
       "      <th>MonthlyCharges</th>\n",
       "      <th>TotalCharges</th>\n",
       "      <th>Churn</th>\n",
       "    </tr>\n",
       "  </thead>\n",
       "  <tbody>\n",
       "    <tr>\n",
       "      <th>488</th>\n",
       "      <td>Female</td>\n",
       "      <td>0</td>\n",
       "      <td>Yes</td>\n",
       "      <td>Yes</td>\n",
       "      <td>0</td>\n",
       "      <td>No</td>\n",
       "      <td>No phone service</td>\n",
       "      <td>DSL</td>\n",
       "      <td>Yes</td>\n",
       "      <td>No</td>\n",
       "      <td>Yes</td>\n",
       "      <td>Yes</td>\n",
       "      <td>Yes</td>\n",
       "      <td>No</td>\n",
       "      <td>Two year</td>\n",
       "      <td>Yes</td>\n",
       "      <td>Bank transfer (automatic)</td>\n",
       "      <td>52.55</td>\n",
       "      <td></td>\n",
       "      <td>No</td>\n",
       "    </tr>\n",
       "    <tr>\n",
       "      <th>753</th>\n",
       "      <td>Male</td>\n",
       "      <td>0</td>\n",
       "      <td>No</td>\n",
       "      <td>Yes</td>\n",
       "      <td>0</td>\n",
       "      <td>Yes</td>\n",
       "      <td>No</td>\n",
       "      <td>No</td>\n",
       "      <td>No internet service</td>\n",
       "      <td>No internet service</td>\n",
       "      <td>No internet service</td>\n",
       "      <td>No internet service</td>\n",
       "      <td>No internet service</td>\n",
       "      <td>No internet service</td>\n",
       "      <td>Two year</td>\n",
       "      <td>No</td>\n",
       "      <td>Mailed check</td>\n",
       "      <td>20.25</td>\n",
       "      <td></td>\n",
       "      <td>No</td>\n",
       "    </tr>\n",
       "    <tr>\n",
       "      <th>936</th>\n",
       "      <td>Female</td>\n",
       "      <td>0</td>\n",
       "      <td>Yes</td>\n",
       "      <td>Yes</td>\n",
       "      <td>0</td>\n",
       "      <td>Yes</td>\n",
       "      <td>No</td>\n",
       "      <td>DSL</td>\n",
       "      <td>Yes</td>\n",
       "      <td>Yes</td>\n",
       "      <td>Yes</td>\n",
       "      <td>No</td>\n",
       "      <td>Yes</td>\n",
       "      <td>Yes</td>\n",
       "      <td>Two year</td>\n",
       "      <td>No</td>\n",
       "      <td>Mailed check</td>\n",
       "      <td>80.85</td>\n",
       "      <td></td>\n",
       "      <td>No</td>\n",
       "    </tr>\n",
       "    <tr>\n",
       "      <th>1082</th>\n",
       "      <td>Male</td>\n",
       "      <td>0</td>\n",
       "      <td>Yes</td>\n",
       "      <td>Yes</td>\n",
       "      <td>0</td>\n",
       "      <td>Yes</td>\n",
       "      <td>Yes</td>\n",
       "      <td>No</td>\n",
       "      <td>No internet service</td>\n",
       "      <td>No internet service</td>\n",
       "      <td>No internet service</td>\n",
       "      <td>No internet service</td>\n",
       "      <td>No internet service</td>\n",
       "      <td>No internet service</td>\n",
       "      <td>Two year</td>\n",
       "      <td>No</td>\n",
       "      <td>Mailed check</td>\n",
       "      <td>25.75</td>\n",
       "      <td></td>\n",
       "      <td>No</td>\n",
       "    </tr>\n",
       "    <tr>\n",
       "      <th>1340</th>\n",
       "      <td>Female</td>\n",
       "      <td>0</td>\n",
       "      <td>Yes</td>\n",
       "      <td>Yes</td>\n",
       "      <td>0</td>\n",
       "      <td>No</td>\n",
       "      <td>No phone service</td>\n",
       "      <td>DSL</td>\n",
       "      <td>Yes</td>\n",
       "      <td>Yes</td>\n",
       "      <td>Yes</td>\n",
       "      <td>Yes</td>\n",
       "      <td>Yes</td>\n",
       "      <td>No</td>\n",
       "      <td>Two year</td>\n",
       "      <td>No</td>\n",
       "      <td>Credit card (automatic)</td>\n",
       "      <td>56.05</td>\n",
       "      <td></td>\n",
       "      <td>No</td>\n",
       "    </tr>\n",
       "    <tr>\n",
       "      <th>3331</th>\n",
       "      <td>Male</td>\n",
       "      <td>0</td>\n",
       "      <td>Yes</td>\n",
       "      <td>Yes</td>\n",
       "      <td>0</td>\n",
       "      <td>Yes</td>\n",
       "      <td>No</td>\n",
       "      <td>No</td>\n",
       "      <td>No internet service</td>\n",
       "      <td>No internet service</td>\n",
       "      <td>No internet service</td>\n",
       "      <td>No internet service</td>\n",
       "      <td>No internet service</td>\n",
       "      <td>No internet service</td>\n",
       "      <td>Two year</td>\n",
       "      <td>No</td>\n",
       "      <td>Mailed check</td>\n",
       "      <td>19.85</td>\n",
       "      <td></td>\n",
       "      <td>No</td>\n",
       "    </tr>\n",
       "    <tr>\n",
       "      <th>3826</th>\n",
       "      <td>Male</td>\n",
       "      <td>0</td>\n",
       "      <td>Yes</td>\n",
       "      <td>Yes</td>\n",
       "      <td>0</td>\n",
       "      <td>Yes</td>\n",
       "      <td>Yes</td>\n",
       "      <td>No</td>\n",
       "      <td>No internet service</td>\n",
       "      <td>No internet service</td>\n",
       "      <td>No internet service</td>\n",
       "      <td>No internet service</td>\n",
       "      <td>No internet service</td>\n",
       "      <td>No internet service</td>\n",
       "      <td>Two year</td>\n",
       "      <td>No</td>\n",
       "      <td>Mailed check</td>\n",
       "      <td>25.35</td>\n",
       "      <td></td>\n",
       "      <td>No</td>\n",
       "    </tr>\n",
       "    <tr>\n",
       "      <th>4380</th>\n",
       "      <td>Female</td>\n",
       "      <td>0</td>\n",
       "      <td>Yes</td>\n",
       "      <td>Yes</td>\n",
       "      <td>0</td>\n",
       "      <td>Yes</td>\n",
       "      <td>No</td>\n",
       "      <td>No</td>\n",
       "      <td>No internet service</td>\n",
       "      <td>No internet service</td>\n",
       "      <td>No internet service</td>\n",
       "      <td>No internet service</td>\n",
       "      <td>No internet service</td>\n",
       "      <td>No internet service</td>\n",
       "      <td>Two year</td>\n",
       "      <td>No</td>\n",
       "      <td>Mailed check</td>\n",
       "      <td>20.00</td>\n",
       "      <td></td>\n",
       "      <td>No</td>\n",
       "    </tr>\n",
       "    <tr>\n",
       "      <th>5218</th>\n",
       "      <td>Male</td>\n",
       "      <td>0</td>\n",
       "      <td>Yes</td>\n",
       "      <td>Yes</td>\n",
       "      <td>0</td>\n",
       "      <td>Yes</td>\n",
       "      <td>No</td>\n",
       "      <td>No</td>\n",
       "      <td>No internet service</td>\n",
       "      <td>No internet service</td>\n",
       "      <td>No internet service</td>\n",
       "      <td>No internet service</td>\n",
       "      <td>No internet service</td>\n",
       "      <td>No internet service</td>\n",
       "      <td>One year</td>\n",
       "      <td>Yes</td>\n",
       "      <td>Mailed check</td>\n",
       "      <td>19.70</td>\n",
       "      <td></td>\n",
       "      <td>No</td>\n",
       "    </tr>\n",
       "    <tr>\n",
       "      <th>6670</th>\n",
       "      <td>Female</td>\n",
       "      <td>0</td>\n",
       "      <td>Yes</td>\n",
       "      <td>Yes</td>\n",
       "      <td>0</td>\n",
       "      <td>Yes</td>\n",
       "      <td>Yes</td>\n",
       "      <td>DSL</td>\n",
       "      <td>No</td>\n",
       "      <td>Yes</td>\n",
       "      <td>Yes</td>\n",
       "      <td>Yes</td>\n",
       "      <td>Yes</td>\n",
       "      <td>No</td>\n",
       "      <td>Two year</td>\n",
       "      <td>No</td>\n",
       "      <td>Mailed check</td>\n",
       "      <td>73.35</td>\n",
       "      <td></td>\n",
       "      <td>No</td>\n",
       "    </tr>\n",
       "    <tr>\n",
       "      <th>6754</th>\n",
       "      <td>Male</td>\n",
       "      <td>0</td>\n",
       "      <td>No</td>\n",
       "      <td>Yes</td>\n",
       "      <td>0</td>\n",
       "      <td>Yes</td>\n",
       "      <td>Yes</td>\n",
       "      <td>DSL</td>\n",
       "      <td>Yes</td>\n",
       "      <td>Yes</td>\n",
       "      <td>No</td>\n",
       "      <td>Yes</td>\n",
       "      <td>No</td>\n",
       "      <td>No</td>\n",
       "      <td>Two year</td>\n",
       "      <td>Yes</td>\n",
       "      <td>Bank transfer (automatic)</td>\n",
       "      <td>61.90</td>\n",
       "      <td></td>\n",
       "      <td>No</td>\n",
       "    </tr>\n",
       "  </tbody>\n",
       "</table>\n",
       "</div>"
      ],
      "text/plain": [
       "      gender  SeniorCitizen Partner Dependents  tenure PhoneService  \\\n",
       "488   Female              0     Yes        Yes       0           No   \n",
       "753     Male              0      No        Yes       0          Yes   \n",
       "936   Female              0     Yes        Yes       0          Yes   \n",
       "1082    Male              0     Yes        Yes       0          Yes   \n",
       "1340  Female              0     Yes        Yes       0           No   \n",
       "3331    Male              0     Yes        Yes       0          Yes   \n",
       "3826    Male              0     Yes        Yes       0          Yes   \n",
       "4380  Female              0     Yes        Yes       0          Yes   \n",
       "5218    Male              0     Yes        Yes       0          Yes   \n",
       "6670  Female              0     Yes        Yes       0          Yes   \n",
       "6754    Male              0      No        Yes       0          Yes   \n",
       "\n",
       "         MultipleLines InternetService       OnlineSecurity  \\\n",
       "488   No phone service             DSL                  Yes   \n",
       "753                 No              No  No internet service   \n",
       "936                 No             DSL                  Yes   \n",
       "1082               Yes              No  No internet service   \n",
       "1340  No phone service             DSL                  Yes   \n",
       "3331                No              No  No internet service   \n",
       "3826               Yes              No  No internet service   \n",
       "4380                No              No  No internet service   \n",
       "5218                No              No  No internet service   \n",
       "6670               Yes             DSL                   No   \n",
       "6754               Yes             DSL                  Yes   \n",
       "\n",
       "             OnlineBackup     DeviceProtection          TechSupport  \\\n",
       "488                    No                  Yes                  Yes   \n",
       "753   No internet service  No internet service  No internet service   \n",
       "936                   Yes                  Yes                   No   \n",
       "1082  No internet service  No internet service  No internet service   \n",
       "1340                  Yes                  Yes                  Yes   \n",
       "3331  No internet service  No internet service  No internet service   \n",
       "3826  No internet service  No internet service  No internet service   \n",
       "4380  No internet service  No internet service  No internet service   \n",
       "5218  No internet service  No internet service  No internet service   \n",
       "6670                  Yes                  Yes                  Yes   \n",
       "6754                  Yes                   No                  Yes   \n",
       "\n",
       "              StreamingTV      StreamingMovies  Contract PaperlessBilling  \\\n",
       "488                   Yes                   No  Two year              Yes   \n",
       "753   No internet service  No internet service  Two year               No   \n",
       "936                   Yes                  Yes  Two year               No   \n",
       "1082  No internet service  No internet service  Two year               No   \n",
       "1340                  Yes                   No  Two year               No   \n",
       "3331  No internet service  No internet service  Two year               No   \n",
       "3826  No internet service  No internet service  Two year               No   \n",
       "4380  No internet service  No internet service  Two year               No   \n",
       "5218  No internet service  No internet service  One year              Yes   \n",
       "6670                  Yes                   No  Two year               No   \n",
       "6754                   No                   No  Two year              Yes   \n",
       "\n",
       "                  PaymentMethod  MonthlyCharges TotalCharges Churn  \n",
       "488   Bank transfer (automatic)           52.55                 No  \n",
       "753                Mailed check           20.25                 No  \n",
       "936                Mailed check           80.85                 No  \n",
       "1082               Mailed check           25.75                 No  \n",
       "1340    Credit card (automatic)           56.05                 No  \n",
       "3331               Mailed check           19.85                 No  \n",
       "3826               Mailed check           25.35                 No  \n",
       "4380               Mailed check           20.00                 No  \n",
       "5218               Mailed check           19.70                 No  \n",
       "6670               Mailed check           73.35                 No  \n",
       "6754  Bank transfer (automatic)           61.90                 No  "
      ]
     },
     "execution_count": 20,
     "metadata": {},
     "output_type": "execute_result"
    }
   ],
   "source": [
    "df[pd.to_numeric(df.TotalCharges,errors=\"coerce\").isnull()]"
   ]
  },
  {
   "cell_type": "code",
   "execution_count": 22,
   "id": "b68e3e99",
   "metadata": {},
   "outputs": [
    {
     "data": {
      "text/plain": [
       "' '"
      ]
     },
     "execution_count": 22,
     "metadata": {},
     "output_type": "execute_result"
    }
   ],
   "source": [
    "df.iloc[488][\"TotalCharges\"]"
   ]
  },
  {
   "cell_type": "code",
   "execution_count": 23,
   "id": "073ff235",
   "metadata": {},
   "outputs": [
    {
     "data": {
      "text/plain": [
       "(7032, 20)"
      ]
     },
     "execution_count": 23,
     "metadata": {},
     "output_type": "execute_result"
    }
   ],
   "source": [
    "df1=df[df.TotalCharges!=' ']\n",
    "df1.shape"
   ]
  },
  {
   "cell_type": "code",
   "execution_count": 26,
   "id": "6db510b7",
   "metadata": {},
   "outputs": [
    {
     "data": {
      "text/plain": [
       "gender               object\n",
       "SeniorCitizen         int64\n",
       "Partner              object\n",
       "Dependents           object\n",
       "tenure                int64\n",
       "PhoneService         object\n",
       "MultipleLines        object\n",
       "InternetService      object\n",
       "OnlineSecurity       object\n",
       "OnlineBackup         object\n",
       "DeviceProtection     object\n",
       "TechSupport          object\n",
       "StreamingTV          object\n",
       "StreamingMovies      object\n",
       "Contract             object\n",
       "PaperlessBilling     object\n",
       "PaymentMethod        object\n",
       "MonthlyCharges      float64\n",
       "TotalCharges         object\n",
       "Churn                object\n",
       "dtype: object"
      ]
     },
     "execution_count": 26,
     "metadata": {},
     "output_type": "execute_result"
    }
   ],
   "source": [
    "df1.dtypes"
   ]
  },
  {
   "cell_type": "code",
   "execution_count": 31,
   "id": "02a37595",
   "metadata": {},
   "outputs": [],
   "source": [
    "df1.loc[:, 'TotalCharges'] = pd.to_numeric(df1['TotalCharges'])\n"
   ]
  },
  {
   "cell_type": "code",
   "execution_count": 32,
   "id": "d96fcae5",
   "metadata": {},
   "outputs": [
    {
     "data": {
      "text/plain": [
       "dtype('float64')"
      ]
     },
     "execution_count": 32,
     "metadata": {},
     "output_type": "execute_result"
    }
   ],
   "source": [
    "df1.TotalCharges.dtypes"
   ]
  },
  {
   "cell_type": "code",
   "execution_count": 35,
   "id": "dc5f1d54",
   "metadata": {},
   "outputs": [],
   "source": [
    "tenure_churn_no=df1[df1.Churn==\"No\"].tenure\n",
    "tenure_churn_yes=df1[df1.Churn==\"Yes\"].tenure"
   ]
  },
  {
   "cell_type": "code",
   "execution_count": 38,
   "id": "ae5016e7",
   "metadata": {
    "scrolled": true
   },
   "outputs": [
    {
     "data": {
      "text/plain": [
       "<matplotlib.legend.Legend at 0x218fafcb090>"
      ]
     },
     "execution_count": 38,
     "metadata": {},
     "output_type": "execute_result"
    },
    {
     "data": {
      "image/png": "[encoded data removed]",
      "text/plain": [
       "<Figure size 640x480 with 1 Axes>"
      ]
     },
     "metadata": {},
     "output_type": "display_data"
    }
   ],
   "source": [
    "plt.hist([tenure_churn_yes,tenure_churn_no],color=[\"green\",\"red\"],label=[\"churn=yes\",\"churn=No\"])\n",
    "plt.legend()"
   ]
  },
  {
   "cell_type": "code",
   "execution_count": 41,
   "id": "65ae9f70",
   "metadata": {},
   "outputs": [],
   "source": [
    "mc_churn_no=df1[df1.Churn==\"No\"].MonthlyCharges\n",
    "mc_churn_yes=df1[df1.Churn==\"Yes\"].MonthlyCharges\n"
   ]
  },
  {
   "cell_type": "code",
   "execution_count": 42,
   "id": "19f03f2c",
   "metadata": {},
   "outputs": [
    {
     "data": {
      "text/plain": [
       "<matplotlib.legend.Legend at 0x218fe8a2090>"
      ]
     },
     "execution_count": 42,
     "metadata": {},
     "output_type": "execute_result"
    },
    {
     "data": {
      "image/png": "[encoded data removed]",
      "text/plain": [
       "<Figure size 640x480 with 1 Axes>"
      ]
     },
     "metadata": {},
     "output_type": "display_data"
    }
   ],
   "source": [
    "plt.xlabel(\"Monthly charges\")\n",
    "plt.ylabel(\"Number of customers\")\n",
    "plt.title(\"Customer Churn Prediction Visualization\")\n",
    "\n",
    "plt.hist([mc_churn_yes,mc_churn_no],color=[\"green\",\"red\"],label=[\"churn=yes\",\"churn=No\"])\n",
    "plt.legend()"
   ]
  },
  {
   "cell_type": "code",
   "execution_count": 43,
   "id": "5346fff2",
   "metadata": {},
   "outputs": [
    {
     "data": {
      "text/plain": [
       "Index(['gender', 'SeniorCitizen', 'Partner', 'Dependents', 'tenure',\n",
       "       'PhoneService', 'MultipleLines', 'InternetService', 'OnlineSecurity',\n",
       "       'OnlineBackup', 'DeviceProtection', 'TechSupport', 'StreamingTV',\n",
       "       'StreamingMovies', 'Contract', 'PaperlessBilling', 'PaymentMethod',\n",
       "       'MonthlyCharges', 'TotalCharges', 'Churn'],\n",
       "      dtype='object')"
      ]
     },
     "execution_count": 43,
     "metadata": {},
     "output_type": "execute_result"
    }
   ],
   "source": [
    "df1.columns"
   ]
  },
  {
   "cell_type": "markdown",
   "id": "6fd35918",
   "metadata": {},
   "source": [
    "## Label Encoding "
   ]
  },
  {
   "cell_type": "code",
   "execution_count": 48,
   "id": "db50fd97",
   "metadata": {},
   "outputs": [],
   "source": [
    "def print_unique_col_values(df1):\n",
    "    for column in df1:\n",
    "        if df1[column].dtype==\"object\": \n",
    "            print(f'{column} : {df1[column].unique()}')"
   ]
  },
  {
   "cell_type": "code",
   "execution_count": 49,
   "id": "87abbda8",
   "metadata": {},
   "outputs": [
    {
     "name": "stdout",
     "output_type": "stream",
     "text": [
      "gender : ['Female' 'Male']\n",
      "Partner : ['Yes' 'No']\n",
      "Dependents : ['No' 'Yes']\n",
      "PhoneService : ['No' 'Yes']\n",
      "MultipleLines : ['No phone service' 'No' 'Yes']\n",
      "InternetService : ['DSL' 'Fiber optic' 'No']\n",
      "OnlineSecurity : ['No' 'Yes' 'No internet service']\n",
      "OnlineBackup : ['Yes' 'No' 'No internet service']\n",
      "DeviceProtection : ['No' 'Yes' 'No internet service']\n",
      "TechSupport : ['No' 'Yes' 'No internet service']\n",
      "StreamingTV : ['No' 'Yes' 'No internet service']\n",
      "StreamingMovies : ['No' 'Yes' 'No internet service']\n",
      "Contract : ['Month-to-month' 'One year' 'Two year']\n",
      "PaperlessBilling : ['Yes' 'No']\n",
      "PaymentMethod : ['Electronic check' 'Mailed check' 'Bank transfer (automatic)'\n",
      " 'Credit card (automatic)']\n",
      "Churn : ['No' 'Yes']\n"
     ]
    }
   ],
   "source": [
    "print_unique_col_values(df1)"
   ]
  },
  {
   "cell_type": "code",
   "execution_count": 55,
   "id": "362374be",
   "metadata": {},
   "outputs": [],
   "source": [
    "df1.replace(\"No internet service\",\"No\",inplace=True)\n",
    "df1.replace(\"No phone service\",\"No\",inplace=True)\n"
   ]
  },
  {
   "cell_type": "code",
   "execution_count": 56,
   "id": "26990180",
   "metadata": {},
   "outputs": [
    {
     "name": "stdout",
     "output_type": "stream",
     "text": [
      "gender : ['Female' 'Male']\n",
      "Partner : ['Yes' 'No']\n",
      "Dependents : ['No' 'Yes']\n",
      "PhoneService : ['No' 'Yes']\n",
      "MultipleLines : ['No' 'Yes']\n",
      "InternetService : ['DSL' 'Fiber optic' 'No']\n",
      "OnlineSecurity : ['No' 'Yes']\n",
      "OnlineBackup : ['Yes' 'No']\n",
      "DeviceProtection : ['No' 'Yes']\n",
      "TechSupport : ['No' 'Yes']\n",
      "StreamingTV : ['No' 'Yes']\n",
      "StreamingMovies : ['No' 'Yes']\n",
      "Contract : ['Month-to-month' 'One year' 'Two year']\n",
      "PaperlessBilling : ['Yes' 'No']\n",
      "PaymentMethod : ['Electronic check' 'Mailed check' 'Bank transfer (automatic)'\n",
      " 'Credit card (automatic)']\n",
      "Churn : ['No' 'Yes']\n"
     ]
    }
   ],
   "source": [
    "print_unique_col_values(df1)"
   ]
  },
  {
   "cell_type": "code",
   "execution_count": 57,
   "id": "05b93262",
   "metadata": {},
   "outputs": [],
   "source": [
    "yes_no_columns=[\"Partner\",\"Dependents\",\"PhoneService\",\"MultipleLines\",\"OnlineSecurity\",\"PaperlessBilling\",\n",
    "                \"OnlineBackup\",\"DeviceProtection\",\"TechSupport\",\"StreamingTV\",\"StreamingMovies\",\"Churn\"]"
   ]
  },
  {
   "cell_type": "code",
   "execution_count": 58,
   "id": "06373f6f",
   "metadata": {},
   "outputs": [],
   "source": [
    "for col in yes_no_columns:\n",
    "    df1[col].replace({\"Yes\" : 1,\"No\": 0},inplace=True)"
   ]
  },
  {
   "cell_type": "code",
   "execution_count": 60,
   "id": "b739d6a7",
   "metadata": {},
   "outputs": [
    {
     "name": "stdout",
     "output_type": "stream",
     "text": [
      "gender : ['Female' 'Male']\n",
      "SeniorCitizen : [0 1]\n",
      "Partner : [1 0]\n",
      "Dependents : [0 1]\n",
      "tenure : [ 1 34  2 45  8 22 10 28 62 13 16 58 49 25 69 52 71 21 12 30 47 72 17 27\n",
      "  5 46 11 70 63 43 15 60 18 66  9  3 31 50 64 56  7 42 35 48 29 65 38 68\n",
      " 32 55 37 36 41  6  4 33 67 23 57 61 14 20 53 40 59 24 44 19 54 51 26 39]\n",
      "PhoneService : [0 1]\n",
      "MultipleLines : [0 1]\n",
      "InternetService : ['DSL' 'Fiber optic' 'No']\n",
      "OnlineSecurity : [0 1]\n",
      "OnlineBackup : [1 0]\n",
      "DeviceProtection : [0 1]\n",
      "TechSupport : [0 1]\n",
      "StreamingTV : [0 1]\n",
      "StreamingMovies : [0 1]\n",
      "Contract : ['Month-to-month' 'One year' 'Two year']\n",
      "PaperlessBilling : [1 0]\n",
      "PaymentMethod : ['Electronic check' 'Mailed check' 'Bank transfer (automatic)'\n",
      " 'Credit card (automatic)']\n",
      "MonthlyCharges : [29.85 56.95 53.85 ... 63.1  44.2  78.7 ]\n",
      "TotalCharges : [  29.85 1889.5   108.15 ...  346.45  306.6  6844.5 ]\n",
      "Churn : [0 1]\n"
     ]
    }
   ],
   "source": [
    "for col in df1:\n",
    "    print(f'{col} : {df1[col].unique()}')"
   ]
  },
  {
   "cell_type": "code",
   "execution_count": 64,
   "id": "791507e7",
   "metadata": {},
   "outputs": [
    {
     "data": {
      "text/plain": [
       "array([1, 0], dtype=int64)"
      ]
     },
     "execution_count": 64,
     "metadata": {},
     "output_type": "execute_result"
    }
   ],
   "source": [
    "df1[\"gender\"].replace({\"Female\" : 1, \"Male\": 0},inplace=True)\n",
    "df1[\"gender\"].unique()"
   ]
  },
  {
   "cell_type": "code",
   "execution_count": 70,
   "id": "5a338b49",
   "metadata": {},
   "outputs": [
    {
     "data": {
      "text/plain": [
       "Index(['gender', 'SeniorCitizen', 'Partner', 'Dependents', 'tenure',\n",
       "       'PhoneService', 'MultipleLines', 'OnlineSecurity', 'OnlineBackup',\n",
       "       'DeviceProtection', 'TechSupport', 'StreamingTV', 'StreamingMovies',\n",
       "       'PaperlessBilling', 'MonthlyCharges', 'TotalCharges', 'Churn',\n",
       "       'InternetService_DSL', 'InternetService_Fiber optic',\n",
       "       'InternetService_No', 'Contract_Month-to-month', 'Contract_One year',\n",
       "       'Contract_Two year', 'PaymentMethod_Bank transfer (automatic)',\n",
       "       'PaymentMethod_Credit card (automatic)',\n",
       "       'PaymentMethod_Electronic check', 'PaymentMethod_Mailed check'],\n",
       "      dtype='object')"
      ]
     },
     "execution_count": 70,
     "metadata": {},
     "output_type": "execute_result"
    }
   ],
   "source": [
    "df2=pd.get_dummies(data=df1,columns=[\"InternetService\",\"Contract\",\"PaymentMethod\"])\n",
    "df2.columns"
   ]
  },
  {
   "cell_type": "code",
   "execution_count": 71,
   "id": "58b15206",
   "metadata": {},
   "outputs": [
    {
     "data": {
      "text/html": [
       "<div>\n",
       "<style scoped>\n",
       "    .dataframe tbody tr th:only-of-type {\n",
       "        vertical-align: middle;\n",
       "    }\n",
       "\n",
       "    .dataframe tbody tr th {\n",
       "        vertical-align: top;\n",
       "    }\n",
       "\n",
       "    .dataframe thead th {\n",
       "        text-align: right;\n",
       "    }\n",
       "</style>\n",
       "<table border=\"1\" class=\"dataframe\">\n",
       "  <thead>\n",
       "    <tr style=\"text-align: right;\">\n",
       "      <th></th>\n",
       "      <th>gender</th>\n",
       "      <th>SeniorCitizen</th>\n",
       "      <th>Partner</th>\n",
       "      <th>Dependents</th>\n",
       "      <th>tenure</th>\n",
       "      <th>PhoneService</th>\n",
       "      <th>MultipleLines</th>\n",
       "      <th>OnlineSecurity</th>\n",
       "      <th>OnlineBackup</th>\n",
       "      <th>DeviceProtection</th>\n",
       "      <th>...</th>\n",
       "      <th>InternetService_DSL</th>\n",
       "      <th>InternetService_Fiber optic</th>\n",
       "      <th>InternetService_No</th>\n",
       "      <th>Contract_Month-to-month</th>\n",
       "      <th>Contract_One year</th>\n",
       "      <th>Contract_Two year</th>\n",
       "      <th>PaymentMethod_Bank transfer (automatic)</th>\n",
       "      <th>PaymentMethod_Credit card (automatic)</th>\n",
       "      <th>PaymentMethod_Electronic check</th>\n",
       "      <th>PaymentMethod_Mailed check</th>\n",
       "    </tr>\n",
       "  </thead>\n",
       "  <tbody>\n",
       "    <tr>\n",
       "      <th>6177</th>\n",
       "      <td>0</td>\n",
       "      <td>0</td>\n",
       "      <td>0</td>\n",
       "      <td>0</td>\n",
       "      <td>4</td>\n",
       "      <td>1</td>\n",
       "      <td>0</td>\n",
       "      <td>0</td>\n",
       "      <td>0</td>\n",
       "      <td>0</td>\n",
       "      <td>...</td>\n",
       "      <td>True</td>\n",
       "      <td>False</td>\n",
       "      <td>False</td>\n",
       "      <td>True</td>\n",
       "      <td>False</td>\n",
       "      <td>False</td>\n",
       "      <td>False</td>\n",
       "      <td>False</td>\n",
       "      <td>True</td>\n",
       "      <td>False</td>\n",
       "    </tr>\n",
       "    <tr>\n",
       "      <th>3565</th>\n",
       "      <td>0</td>\n",
       "      <td>0</td>\n",
       "      <td>0</td>\n",
       "      <td>0</td>\n",
       "      <td>1</td>\n",
       "      <td>1</td>\n",
       "      <td>0</td>\n",
       "      <td>0</td>\n",
       "      <td>1</td>\n",
       "      <td>0</td>\n",
       "      <td>...</td>\n",
       "      <td>True</td>\n",
       "      <td>False</td>\n",
       "      <td>False</td>\n",
       "      <td>True</td>\n",
       "      <td>False</td>\n",
       "      <td>False</td>\n",
       "      <td>False</td>\n",
       "      <td>False</td>\n",
       "      <td>True</td>\n",
       "      <td>False</td>\n",
       "    </tr>\n",
       "    <tr>\n",
       "      <th>3085</th>\n",
       "      <td>0</td>\n",
       "      <td>0</td>\n",
       "      <td>0</td>\n",
       "      <td>0</td>\n",
       "      <td>3</td>\n",
       "      <td>1</td>\n",
       "      <td>1</td>\n",
       "      <td>0</td>\n",
       "      <td>1</td>\n",
       "      <td>1</td>\n",
       "      <td>...</td>\n",
       "      <td>False</td>\n",
       "      <td>True</td>\n",
       "      <td>False</td>\n",
       "      <td>True</td>\n",
       "      <td>False</td>\n",
       "      <td>False</td>\n",
       "      <td>True</td>\n",
       "      <td>False</td>\n",
       "      <td>False</td>\n",
       "      <td>False</td>\n",
       "    </tr>\n",
       "  </tbody>\n",
       "</table>\n",
       "<p>3 rows × 27 columns</p>\n",
       "</div>"
      ],
      "text/plain": [
       "      gender  SeniorCitizen  Partner  Dependents  tenure  PhoneService  \\\n",
       "6177       0              0        0           0       4             1   \n",
       "3565       0              0        0           0       1             1   \n",
       "3085       0              0        0           0       3             1   \n",
       "\n",
       "      MultipleLines  OnlineSecurity  OnlineBackup  DeviceProtection  ...  \\\n",
       "6177              0               0             0                 0  ...   \n",
       "3565              0               0             1                 0  ...   \n",
       "3085              1               0             1                 1  ...   \n",
       "\n",
       "      InternetService_DSL  InternetService_Fiber optic  InternetService_No  \\\n",
       "6177                 True                        False               False   \n",
       "3565                 True                        False               False   \n",
       "3085                False                         True               False   \n",
       "\n",
       "      Contract_Month-to-month  Contract_One year  Contract_Two year  \\\n",
       "6177                     True              False              False   \n",
       "3565                     True              False              False   \n",
       "3085                     True              False              False   \n",
       "\n",
       "      PaymentMethod_Bank transfer (automatic)  \\\n",
       "6177                                    False   \n",
       "3565                                    False   \n",
       "3085                                     True   \n",
       "\n",
       "      PaymentMethod_Credit card (automatic)  PaymentMethod_Electronic check  \\\n",
       "6177                                  False                            True   \n",
       "3565                                  False                            True   \n",
       "3085                                  False                           False   \n",
       "\n",
       "      PaymentMethod_Mailed check  \n",
       "6177                       False  \n",
       "3565                       False  \n",
       "3085                       False  \n",
       "\n",
       "[3 rows x 27 columns]"
      ]
     },
     "execution_count": 71,
     "metadata": {},
     "output_type": "execute_result"
    }
   ],
   "source": [
    "df2.sample(3)"
   ]
  },
  {
   "cell_type": "code",
   "execution_count": 72,
   "id": "ca36cd37",
   "metadata": {},
   "outputs": [
    {
     "data": {
      "text/plain": [
       "gender                                       int64\n",
       "SeniorCitizen                                int64\n",
       "Partner                                      int64\n",
       "Dependents                                   int64\n",
       "tenure                                       int64\n",
       "PhoneService                                 int64\n",
       "MultipleLines                                int64\n",
       "OnlineSecurity                               int64\n",
       "OnlineBackup                                 int64\n",
       "DeviceProtection                             int64\n",
       "TechSupport                                  int64\n",
       "StreamingTV                                  int64\n",
       "StreamingMovies                              int64\n",
       "PaperlessBilling                             int64\n",
       "MonthlyCharges                             float64\n",
       "TotalCharges                               float64\n",
       "Churn                                        int64\n",
       "InternetService_DSL                           bool\n",
       "InternetService_Fiber optic                   bool\n",
       "InternetService_No                            bool\n",
       "Contract_Month-to-month                       bool\n",
       "Contract_One year                             bool\n",
       "Contract_Two year                             bool\n",
       "PaymentMethod_Bank transfer (automatic)       bool\n",
       "PaymentMethod_Credit card (automatic)         bool\n",
       "PaymentMethod_Electronic check                bool\n",
       "PaymentMethod_Mailed check                    bool\n",
       "dtype: object"
      ]
     },
     "execution_count": 72,
     "metadata": {},
     "output_type": "execute_result"
    }
   ],
   "source": [
    "df2.dtypes"
   ]
  },
  {
   "cell_type": "markdown",
   "id": "11000fe2",
   "metadata": {},
   "source": [
    "## Scaling"
   ]
  },
  {
   "cell_type": "code",
   "execution_count": 73,
   "id": "20ff8e5c",
   "metadata": {},
   "outputs": [],
   "source": [
    "col_to_scale=[\"tenure\",\"MonthlyCharges\",\"TotalCharges\"]"
   ]
  },
  {
   "cell_type": "code",
   "execution_count": 74,
   "id": "64fadaee",
   "metadata": {},
   "outputs": [],
   "source": [
    "from sklearn.preprocessing import MinMaxScaler\n",
    "scaler=MinMaxScaler()\n",
    "\n",
    "df2[col_to_scale]=scaler.fit_transform(df2[col_to_scale])"
   ]
  },
  {
   "cell_type": "code",
   "execution_count": 75,
   "id": "f50c3646",
   "metadata": {},
   "outputs": [
    {
     "data": {
      "text/html": [
       "<div>\n",
       "<style scoped>\n",
       "    .dataframe tbody tr th:only-of-type {\n",
       "        vertical-align: middle;\n",
       "    }\n",
       "\n",
       "    .dataframe tbody tr th {\n",
       "        vertical-align: top;\n",
       "    }\n",
       "\n",
       "    .dataframe thead th {\n",
       "        text-align: right;\n",
       "    }\n",
       "</style>\n",
       "<table border=\"1\" class=\"dataframe\">\n",
       "  <thead>\n",
       "    <tr style=\"text-align: right;\">\n",
       "      <th></th>\n",
       "      <th>gender</th>\n",
       "      <th>SeniorCitizen</th>\n",
       "      <th>Partner</th>\n",
       "      <th>Dependents</th>\n",
       "      <th>tenure</th>\n",
       "      <th>PhoneService</th>\n",
       "      <th>MultipleLines</th>\n",
       "      <th>OnlineSecurity</th>\n",
       "      <th>OnlineBackup</th>\n",
       "      <th>DeviceProtection</th>\n",
       "      <th>...</th>\n",
       "      <th>InternetService_DSL</th>\n",
       "      <th>InternetService_Fiber optic</th>\n",
       "      <th>InternetService_No</th>\n",
       "      <th>Contract_Month-to-month</th>\n",
       "      <th>Contract_One year</th>\n",
       "      <th>Contract_Two year</th>\n",
       "      <th>PaymentMethod_Bank transfer (automatic)</th>\n",
       "      <th>PaymentMethod_Credit card (automatic)</th>\n",
       "      <th>PaymentMethod_Electronic check</th>\n",
       "      <th>PaymentMethod_Mailed check</th>\n",
       "    </tr>\n",
       "  </thead>\n",
       "  <tbody>\n",
       "    <tr>\n",
       "      <th>0</th>\n",
       "      <td>1</td>\n",
       "      <td>0</td>\n",
       "      <td>1</td>\n",
       "      <td>0</td>\n",
       "      <td>0.000000</td>\n",
       "      <td>0</td>\n",
       "      <td>0</td>\n",
       "      <td>0</td>\n",
       "      <td>1</td>\n",
       "      <td>0</td>\n",
       "      <td>...</td>\n",
       "      <td>True</td>\n",
       "      <td>False</td>\n",
       "      <td>False</td>\n",
       "      <td>True</td>\n",
       "      <td>False</td>\n",
       "      <td>False</td>\n",
       "      <td>False</td>\n",
       "      <td>False</td>\n",
       "      <td>True</td>\n",
       "      <td>False</td>\n",
       "    </tr>\n",
       "    <tr>\n",
       "      <th>1</th>\n",
       "      <td>0</td>\n",
       "      <td>0</td>\n",
       "      <td>0</td>\n",
       "      <td>0</td>\n",
       "      <td>0.464789</td>\n",
       "      <td>1</td>\n",
       "      <td>0</td>\n",
       "      <td>1</td>\n",
       "      <td>0</td>\n",
       "      <td>1</td>\n",
       "      <td>...</td>\n",
       "      <td>True</td>\n",
       "      <td>False</td>\n",
       "      <td>False</td>\n",
       "      <td>False</td>\n",
       "      <td>True</td>\n",
       "      <td>False</td>\n",
       "      <td>False</td>\n",
       "      <td>False</td>\n",
       "      <td>False</td>\n",
       "      <td>True</td>\n",
       "    </tr>\n",
       "    <tr>\n",
       "      <th>2</th>\n",
       "      <td>0</td>\n",
       "      <td>0</td>\n",
       "      <td>0</td>\n",
       "      <td>0</td>\n",
       "      <td>0.014085</td>\n",
       "      <td>1</td>\n",
       "      <td>0</td>\n",
       "      <td>1</td>\n",
       "      <td>1</td>\n",
       "      <td>0</td>\n",
       "      <td>...</td>\n",
       "      <td>True</td>\n",
       "      <td>False</td>\n",
       "      <td>False</td>\n",
       "      <td>True</td>\n",
       "      <td>False</td>\n",
       "      <td>False</td>\n",
       "      <td>False</td>\n",
       "      <td>False</td>\n",
       "      <td>False</td>\n",
       "      <td>True</td>\n",
       "    </tr>\n",
       "    <tr>\n",
       "      <th>3</th>\n",
       "      <td>0</td>\n",
       "      <td>0</td>\n",
       "      <td>0</td>\n",
       "      <td>0</td>\n",
       "      <td>0.619718</td>\n",
       "      <td>0</td>\n",
       "      <td>0</td>\n",
       "      <td>1</td>\n",
       "      <td>0</td>\n",
       "      <td>1</td>\n",
       "      <td>...</td>\n",
       "      <td>True</td>\n",
       "      <td>False</td>\n",
       "      <td>False</td>\n",
       "      <td>False</td>\n",
       "      <td>True</td>\n",
       "      <td>False</td>\n",
       "      <td>True</td>\n",
       "      <td>False</td>\n",
       "      <td>False</td>\n",
       "      <td>False</td>\n",
       "    </tr>\n",
       "    <tr>\n",
       "      <th>4</th>\n",
       "      <td>1</td>\n",
       "      <td>0</td>\n",
       "      <td>0</td>\n",
       "      <td>0</td>\n",
       "      <td>0.014085</td>\n",
       "      <td>1</td>\n",
       "      <td>0</td>\n",
       "      <td>0</td>\n",
       "      <td>0</td>\n",
       "      <td>0</td>\n",
       "      <td>...</td>\n",
       "      <td>False</td>\n",
       "      <td>True</td>\n",
       "      <td>False</td>\n",
       "      <td>True</td>\n",
       "      <td>False</td>\n",
       "      <td>False</td>\n",
       "      <td>False</td>\n",
       "      <td>False</td>\n",
       "      <td>True</td>\n",
       "      <td>False</td>\n",
       "    </tr>\n",
       "  </tbody>\n",
       "</table>\n",
       "<p>5 rows × 27 columns</p>\n",
       "</div>"
      ],
      "text/plain": [
       "   gender  SeniorCitizen  Partner  Dependents    tenure  PhoneService  \\\n",
       "0       1              0        1           0  0.000000             0   \n",
       "1       0              0        0           0  0.464789             1   \n",
       "2       0              0        0           0  0.014085             1   \n",
       "3       0              0        0           0  0.619718             0   \n",
       "4       1              0        0           0  0.014085             1   \n",
       "\n",
       "   MultipleLines  OnlineSecurity  OnlineBackup  DeviceProtection  ...  \\\n",
       "0              0               0             1                 0  ...   \n",
       "1              0               1             0                 1  ...   \n",
       "2              0               1             1                 0  ...   \n",
       "3              0               1             0                 1  ...   \n",
       "4              0               0             0                 0  ...   \n",
       "\n",
       "   InternetService_DSL  InternetService_Fiber optic  InternetService_No  \\\n",
       "0                 True                        False               False   \n",
       "1                 True                        False               False   \n",
       "2                 True                        False               False   \n",
       "3                 True                        False               False   \n",
       "4                False                         True               False   \n",
       "\n",
       "   Contract_Month-to-month  Contract_One year  Contract_Two year  \\\n",
       "0                     True              False              False   \n",
       "1                    False               True              False   \n",
       "2                     True              False              False   \n",
       "3                    False               True              False   \n",
       "4                     True              False              False   \n",
       "\n",
       "   PaymentMethod_Bank transfer (automatic)  \\\n",
       "0                                    False   \n",
       "1                                    False   \n",
       "2                                    False   \n",
       "3                                     True   \n",
       "4                                    False   \n",
       "\n",
       "   PaymentMethod_Credit card (automatic)  PaymentMethod_Electronic check  \\\n",
       "0                                  False                            True   \n",
       "1                                  False                           False   \n",
       "2                                  False                           False   \n",
       "3                                  False                           False   \n",
       "4                                  False                            True   \n",
       "\n",
       "   PaymentMethod_Mailed check  \n",
       "0                       False  \n",
       "1                        True  \n",
       "2                        True  \n",
       "3                       False  \n",
       "4                       False  \n",
       "\n",
       "[5 rows x 27 columns]"
      ]
     },
     "execution_count": 75,
     "metadata": {},
     "output_type": "execute_result"
    }
   ],
   "source": [
    "df2.head()"
   ]
  },
  {
   "cell_type": "code",
   "execution_count": null,
   "id": "a2ade5d3",
   "metadata": {},
   "outputs": [],
   "source": []
  },
  {
   "cell_type": "markdown",
   "id": "2595261a",
   "metadata": {},
   "source": [
    "## Train_test_split"
   ]
  },
  {
   "cell_type": "code",
   "execution_count": 76,
   "id": "701f8e79",
   "metadata": {},
   "outputs": [],
   "source": [
    "x=df2.drop('Churn',axis='columns')\n",
    "y=df2['Churn']"
   ]
  },
  {
   "cell_type": "code",
   "execution_count": 78,
   "id": "6e21e530",
   "metadata": {},
   "outputs": [],
   "source": [
    "from sklearn.model_selection import train_test_split\n",
    "x_train,x_test,y_train,y_test=train_test_split(x,y,test_size=0.2,random_state=5)"
   ]
  },
  {
   "cell_type": "code",
   "execution_count": 82,
   "id": "957b1dcc",
   "metadata": {},
   "outputs": [
    {
     "data": {
      "text/plain": [
       "(5625, 1407)"
      ]
     },
     "execution_count": 82,
     "metadata": {},
     "output_type": "execute_result"
    }
   ],
   "source": [
    "len(x_train),len(x_test)"
   ]
  },
  {
   "cell_type": "code",
   "execution_count": 83,
   "id": "7016e2c8",
   "metadata": {},
   "outputs": [
    {
     "data": {
      "text/plain": [
       "(5625, 1407)"
      ]
     },
     "execution_count": 83,
     "metadata": {},
     "output_type": "execute_result"
    }
   ],
   "source": [
    "len(y_train),len(y_test)"
   ]
  },
  {
   "cell_type": "code",
   "execution_count": 85,
   "id": "bf66e988",
   "metadata": {},
   "outputs": [
    {
     "data": {
      "text/plain": [
       "(5625, 26)"
      ]
     },
     "execution_count": 85,
     "metadata": {},
     "output_type": "execute_result"
    }
   ],
   "source": [
    "x_train.shape"
   ]
  },
  {
   "cell_type": "markdown",
   "id": "c26056fa",
   "metadata": {},
   "source": [
    "## model creation"
   ]
  },
  {
   "cell_type": "code",
   "execution_count": 95,
   "id": "626d9aeb",
   "metadata": {},
   "outputs": [],
   "source": [
    "import tensorflow as tf\n",
    "from tensorflow import keras"
   ]
  },
  {
   "cell_type": "code",
   "execution_count": 91,
   "id": "2bef6246",
   "metadata": {},
   "outputs": [],
   "source": [
    "# Assuming x_train is your input data\n",
    "x_train = x_train.astype(np.float32)  # Convert to float32\n",
    "y_train = y_train.astype(np.float32)  # Convert to float32"
   ]
  },
  {
   "cell_type": "code",
   "execution_count": 98,
   "id": "23c5f78b",
   "metadata": {},
   "outputs": [
    {
     "name": "stdout",
     "output_type": "stream",
     "text": [
      "Epoch 1/100\n",
      "176/176 [==============================] - 3s 5ms/step - loss: 0.5461 - accuracy: 0.7106\n",
      "Epoch 2/100\n",
      "176/176 [==============================] - 1s 4ms/step - loss: 0.4305 - accuracy: 0.7911\n",
      "Epoch 3/100\n",
      "176/176 [==============================] - 1s 4ms/step - loss: 0.4204 - accuracy: 0.7991\n",
      "Epoch 4/100\n",
      "176/176 [==============================] - 1s 4ms/step - loss: 0.4171 - accuracy: 0.8007\n",
      "Epoch 5/100\n",
      "176/176 [==============================] - 1s 5ms/step - loss: 0.4144 - accuracy: 0.8043\n",
      "Epoch 6/100\n",
      "176/176 [==============================] - 1s 5ms/step - loss: 0.4129 - accuracy: 0.8046\n",
      "Epoch 7/100\n",
      "176/176 [==============================] - 1s 4ms/step - loss: 0.4121 - accuracy: 0.8094\n",
      "Epoch 8/100\n",
      "176/176 [==============================] - 1s 4ms/step - loss: 0.4112 - accuracy: 0.8068\n",
      "Epoch 9/100\n",
      "176/176 [==============================] - 1s 4ms/step - loss: 0.4090 - accuracy: 0.8094\n",
      "Epoch 10/100\n",
      "176/176 [==============================] - 1s 4ms/step - loss: 0.4089 - accuracy: 0.8105\n",
      "Epoch 11/100\n",
      "176/176 [==============================] - 1s 4ms/step - loss: 0.4069 - accuracy: 0.8098\n",
      "Epoch 12/100\n",
      "176/176 [==============================] - 1s 4ms/step - loss: 0.4058 - accuracy: 0.8087\n",
      "Epoch 13/100\n",
      "176/176 [==============================] - 1s 5ms/step - loss: 0.4056 - accuracy: 0.8112\n",
      "Epoch 14/100\n",
      "176/176 [==============================] - 1s 5ms/step - loss: 0.4049 - accuracy: 0.8112\n",
      "Epoch 15/100\n",
      "176/176 [==============================] - 1s 5ms/step - loss: 0.4040 - accuracy: 0.8124\n",
      "Epoch 16/100\n",
      "176/176 [==============================] - 1s 4ms/step - loss: 0.4035 - accuracy: 0.8108\n",
      "Epoch 17/100\n",
      "176/176 [==============================] - 1s 5ms/step - loss: 0.4024 - accuracy: 0.8132\n",
      "Epoch 18/100\n",
      "176/176 [==============================] - 1s 5ms/step - loss: 0.4006 - accuracy: 0.8140\n",
      "Epoch 19/100\n",
      "176/176 [==============================] - 1s 4ms/step - loss: 0.4015 - accuracy: 0.8135\n",
      "Epoch 20/100\n",
      "176/176 [==============================] - 1s 4ms/step - loss: 0.4002 - accuracy: 0.8126\n",
      "Epoch 21/100\n",
      "176/176 [==============================] - 1s 4ms/step - loss: 0.3998 - accuracy: 0.8148\n",
      "Epoch 22/100\n",
      "176/176 [==============================] - 1s 4ms/step - loss: 0.3988 - accuracy: 0.8123\n",
      "Epoch 23/100\n",
      "176/176 [==============================] - 1s 4ms/step - loss: 0.3986 - accuracy: 0.8119\n",
      "Epoch 24/100\n",
      "176/176 [==============================] - 1s 5ms/step - loss: 0.3977 - accuracy: 0.8123\n",
      "Epoch 25/100\n",
      "176/176 [==============================] - 1s 4ms/step - loss: 0.3975 - accuracy: 0.8130\n",
      "Epoch 26/100\n",
      "176/176 [==============================] - 1s 4ms/step - loss: 0.3959 - accuracy: 0.8156\n",
      "Epoch 27/100\n",
      "176/176 [==============================] - 1s 4ms/step - loss: 0.3954 - accuracy: 0.8158\n",
      "Epoch 28/100\n",
      "176/176 [==============================] - 1s 4ms/step - loss: 0.3948 - accuracy: 0.8151\n",
      "Epoch 29/100\n",
      "176/176 [==============================] - 1s 4ms/step - loss: 0.3940 - accuracy: 0.8155\n",
      "Epoch 30/100\n",
      "176/176 [==============================] - 1s 5ms/step - loss: 0.3947 - accuracy: 0.8174\n",
      "Epoch 31/100\n",
      "176/176 [==============================] - 1s 5ms/step - loss: 0.3935 - accuracy: 0.8153\n",
      "Epoch 32/100\n",
      "176/176 [==============================] - 1s 5ms/step - loss: 0.3943 - accuracy: 0.8126\n",
      "Epoch 33/100\n",
      "176/176 [==============================] - 1s 5ms/step - loss: 0.3928 - accuracy: 0.8160\n",
      "Epoch 34/100\n",
      "176/176 [==============================] - 1s 5ms/step - loss: 0.3928 - accuracy: 0.8165\n",
      "Epoch 35/100\n",
      "176/176 [==============================] - 1s 5ms/step - loss: 0.3910 - accuracy: 0.8192\n",
      "Epoch 36/100\n",
      "176/176 [==============================] - 1s 5ms/step - loss: 0.3924 - accuracy: 0.8197\n",
      "Epoch 37/100\n",
      "176/176 [==============================] - 1s 5ms/step - loss: 0.3899 - accuracy: 0.8171\n",
      "Epoch 38/100\n",
      "176/176 [==============================] - 1s 5ms/step - loss: 0.3901 - accuracy: 0.8180\n",
      "Epoch 39/100\n",
      "176/176 [==============================] - 1s 5ms/step - loss: 0.3897 - accuracy: 0.8169\n",
      "Epoch 40/100\n",
      "176/176 [==============================] - 1s 5ms/step - loss: 0.3881 - accuracy: 0.8146\n",
      "Epoch 41/100\n",
      "176/176 [==============================] - 1s 4ms/step - loss: 0.3898 - accuracy: 0.8174\n",
      "Epoch 42/100\n",
      "176/176 [==============================] - 1s 4ms/step - loss: 0.3881 - accuracy: 0.8176\n",
      "Epoch 43/100\n",
      "176/176 [==============================] - 1s 4ms/step - loss: 0.3867 - accuracy: 0.8201\n",
      "Epoch 44/100\n",
      "176/176 [==============================] - 1s 4ms/step - loss: 0.3870 - accuracy: 0.8204\n",
      "Epoch 45/100\n",
      "176/176 [==============================] - 1s 4ms/step - loss: 0.3856 - accuracy: 0.8201\n",
      "Epoch 46/100\n",
      "176/176 [==============================] - 1s 4ms/step - loss: 0.3879 - accuracy: 0.8162\n",
      "Epoch 47/100\n",
      "176/176 [==============================] - 1s 4ms/step - loss: 0.3865 - accuracy: 0.8176\n",
      "Epoch 48/100\n",
      "176/176 [==============================] - 1s 4ms/step - loss: 0.3847 - accuracy: 0.8188\n",
      "Epoch 49/100\n",
      "176/176 [==============================] - 1s 5ms/step - loss: 0.3850 - accuracy: 0.8183\n",
      "Epoch 50/100\n",
      "176/176 [==============================] - 1s 4ms/step - loss: 0.3845 - accuracy: 0.8174\n",
      "Epoch 51/100\n",
      "176/176 [==============================] - 1s 4ms/step - loss: 0.3840 - accuracy: 0.8212\n",
      "Epoch 52/100\n",
      "176/176 [==============================] - 1s 5ms/step - loss: 0.3838 - accuracy: 0.8204\n",
      "Epoch 53/100\n",
      "176/176 [==============================] - 1s 5ms/step - loss: 0.3842 - accuracy: 0.8188\n",
      "Epoch 54/100\n",
      "176/176 [==============================] - 1s 5ms/step - loss: 0.3821 - accuracy: 0.8197\n",
      "Epoch 55/100\n",
      "176/176 [==============================] - 1s 5ms/step - loss: 0.3816 - accuracy: 0.8229\n",
      "Epoch 56/100\n",
      "176/176 [==============================] - 1s 4ms/step - loss: 0.3824 - accuracy: 0.8217\n",
      "Epoch 57/100\n",
      "176/176 [==============================] - 1s 5ms/step - loss: 0.3807 - accuracy: 0.8178\n",
      "Epoch 58/100\n",
      "176/176 [==============================] - 1s 5ms/step - loss: 0.3804 - accuracy: 0.8210\n",
      "Epoch 59/100\n",
      "176/176 [==============================] - 1s 6ms/step - loss: 0.3803 - accuracy: 0.8196\n",
      "Epoch 60/100\n",
      "176/176 [==============================] - 1s 4ms/step - loss: 0.3810 - accuracy: 0.8204\n",
      "Epoch 61/100\n",
      "176/176 [==============================] - 1s 5ms/step - loss: 0.3804 - accuracy: 0.8212\n",
      "Epoch 62/100\n",
      "176/176 [==============================] - 1s 5ms/step - loss: 0.3793 - accuracy: 0.8192\n",
      "Epoch 63/100\n",
      "176/176 [==============================] - 1s 4ms/step - loss: 0.3787 - accuracy: 0.8222\n",
      "Epoch 64/100\n",
      "176/176 [==============================] - 1s 4ms/step - loss: 0.3799 - accuracy: 0.8240\n",
      "Epoch 65/100\n",
      "176/176 [==============================] - 1s 4ms/step - loss: 0.3792 - accuracy: 0.8228\n",
      "Epoch 66/100\n",
      "176/176 [==============================] - 1s 5ms/step - loss: 0.3788 - accuracy: 0.8222\n",
      "Epoch 67/100\n",
      "176/176 [==============================] - 1s 5ms/step - loss: 0.3783 - accuracy: 0.8208\n",
      "Epoch 68/100\n",
      "176/176 [==============================] - 1s 4ms/step - loss: 0.3779 - accuracy: 0.8206\n",
      "Epoch 69/100\n",
      "176/176 [==============================] - 1s 4ms/step - loss: 0.3768 - accuracy: 0.8228\n",
      "Epoch 70/100\n",
      "176/176 [==============================] - 1s 4ms/step - loss: 0.3776 - accuracy: 0.8199\n",
      "Epoch 71/100\n",
      "176/176 [==============================] - 1s 4ms/step - loss: 0.3777 - accuracy: 0.8215\n",
      "Epoch 72/100\n",
      "176/176 [==============================] - 1s 5ms/step - loss: 0.3760 - accuracy: 0.8231\n",
      "Epoch 73/100\n",
      "176/176 [==============================] - 1s 5ms/step - loss: 0.3766 - accuracy: 0.8217\n",
      "Epoch 74/100\n",
      "176/176 [==============================] - 1s 5ms/step - loss: 0.3758 - accuracy: 0.8208\n",
      "Epoch 75/100\n",
      "176/176 [==============================] - 1s 5ms/step - loss: 0.3759 - accuracy: 0.8217\n",
      "Epoch 76/100\n",
      "176/176 [==============================] - 1s 5ms/step - loss: 0.3762 - accuracy: 0.8226\n",
      "Epoch 77/100\n",
      "176/176 [==============================] - 1s 5ms/step - loss: 0.3751 - accuracy: 0.8233\n",
      "Epoch 78/100\n",
      "176/176 [==============================] - 1s 5ms/step - loss: 0.3744 - accuracy: 0.8219\n",
      "Epoch 79/100\n",
      "176/176 [==============================] - 1s 4ms/step - loss: 0.3747 - accuracy: 0.8258\n",
      "Epoch 80/100\n",
      "176/176 [==============================] - 1s 4ms/step - loss: 0.3744 - accuracy: 0.8263\n",
      "Epoch 81/100\n"
     ]
    },
    {
     "name": "stdout",
     "output_type": "stream",
     "text": [
      "176/176 [==============================] - 1s 5ms/step - loss: 0.3741 - accuracy: 0.8238\n",
      "Epoch 82/100\n",
      "176/176 [==============================] - 1s 5ms/step - loss: 0.3742 - accuracy: 0.8217\n",
      "Epoch 83/100\n",
      "176/176 [==============================] - 1s 5ms/step - loss: 0.3732 - accuracy: 0.8222\n",
      "Epoch 84/100\n",
      "176/176 [==============================] - 1s 5ms/step - loss: 0.3734 - accuracy: 0.8249\n",
      "Epoch 85/100\n",
      "176/176 [==============================] - 1s 4ms/step - loss: 0.3732 - accuracy: 0.8251\n",
      "Epoch 86/100\n",
      "176/176 [==============================] - 1s 4ms/step - loss: 0.3727 - accuracy: 0.8279\n",
      "Epoch 87/100\n",
      "176/176 [==============================] - 1s 5ms/step - loss: 0.3724 - accuracy: 0.8267\n",
      "Epoch 88/100\n",
      "176/176 [==============================] - 1s 4ms/step - loss: 0.3718 - accuracy: 0.8258\n",
      "Epoch 89/100\n",
      "176/176 [==============================] - 1s 4ms/step - loss: 0.3715 - accuracy: 0.8277\n",
      "Epoch 90/100\n",
      "176/176 [==============================] - 1s 5ms/step - loss: 0.3716 - accuracy: 0.8247\n",
      "Epoch 91/100\n",
      "176/176 [==============================] - 1s 4ms/step - loss: 0.3717 - accuracy: 0.8235\n",
      "Epoch 92/100\n",
      "176/176 [==============================] - 1s 4ms/step - loss: 0.3727 - accuracy: 0.8249\n",
      "Epoch 93/100\n",
      "176/176 [==============================] - 1s 4ms/step - loss: 0.3715 - accuracy: 0.8238\n",
      "Epoch 94/100\n",
      "176/176 [==============================] - 1s 4ms/step - loss: 0.3708 - accuracy: 0.8251\n",
      "Epoch 95/100\n",
      "176/176 [==============================] - 1s 5ms/step - loss: 0.3713 - accuracy: 0.8245\n",
      "Epoch 96/100\n",
      "176/176 [==============================] - 1s 5ms/step - loss: 0.3718 - accuracy: 0.8249\n",
      "Epoch 97/100\n",
      "176/176 [==============================] - 1s 5ms/step - loss: 0.3711 - accuracy: 0.8263\n",
      "Epoch 98/100\n",
      "176/176 [==============================] - 1s 4ms/step - loss: 0.3700 - accuracy: 0.8263\n",
      "Epoch 99/100\n",
      "176/176 [==============================] - 1s 4ms/step - loss: 0.3693 - accuracy: 0.8256\n",
      "Epoch 100/100\n",
      "176/176 [==============================] - 1s 4ms/step - loss: 0.3689 - accuracy: 0.8244\n"
     ]
    },
    {
     "data": {
      "text/plain": [
       "<keras.src.callbacks.History at 0x218948bd5d0>"
      ]
     },
     "execution_count": 98,
     "metadata": {},
     "output_type": "execute_result"
    }
   ],
   "source": [
    "model=keras.Sequential([\n",
    "    keras.layers.Dense(20,input_shape=(26,),activation=\"relu\"),\n",
    "    keras.layers.Dense(15,activation=\"relu\"),\n",
    "    keras.layers.Dense(1,activation=\"sigmoid\"),\n",
    "])\n",
    "\n",
    "model.compile(\n",
    "    optimizer=\"adam\",\n",
    "    loss=\"binary_crossentropy\",\n",
    "    metrics=[\"accuracy\"]\n",
    "\n",
    ")\n",
    "\n",
    "model.fit(x_train,y_train,epochs=100)"
   ]
  },
  {
   "cell_type": "code",
   "execution_count": null,
   "id": "3def829e",
   "metadata": {},
   "outputs": [],
   "source": []
  },
  {
   "cell_type": "code",
   "execution_count": 100,
   "id": "96163cd5",
   "metadata": {},
   "outputs": [],
   "source": [
    "# Assuming x_train is your input data\n",
    "x_test = x_test.astype(np.float32)  # Convert to float32\n",
    "y_test = y_test.astype(np.float32)  # Convert to float32"
   ]
  },
  {
   "cell_type": "code",
   "execution_count": 101,
   "id": "b791ab64",
   "metadata": {},
   "outputs": [
    {
     "name": "stdout",
     "output_type": "stream",
     "text": [
      "44/44 [==============================] - 1s 6ms/step - loss: 0.4675 - accuracy: 0.7882\n"
     ]
    },
    {
     "data": {
      "text/plain": [
       "[0.46752846240997314, 0.7882018685340881]"
      ]
     },
     "execution_count": 101,
     "metadata": {},
     "output_type": "execute_result"
    }
   ],
   "source": [
    "model.evaluate(x_test,y_test)"
   ]
  },
  {
   "cell_type": "code",
   "execution_count": 102,
   "id": "08e245d0",
   "metadata": {},
   "outputs": [
    {
     "name": "stdout",
     "output_type": "stream",
     "text": [
      "44/44 [==============================] - 1s 4ms/step\n"
     ]
    },
    {
     "data": {
      "text/plain": [
       "array([[0.30201006],\n",
       "       [0.32463714],\n",
       "       [0.01139385],\n",
       "       [0.902023  ],\n",
       "       [0.3725822 ]], dtype=float32)"
      ]
     },
     "execution_count": 102,
     "metadata": {},
     "output_type": "execute_result"
    }
   ],
   "source": [
    "y_predicted=model.predict(x_test)\n",
    "y_predicted[:5]"
   ]
  },
  {
   "cell_type": "code",
   "execution_count": 103,
   "id": "2dbddd67",
   "metadata": {},
   "outputs": [
    {
     "data": {
      "text/plain": [
       "2660    0.0\n",
       "744     0.0\n",
       "5579    1.0\n",
       "64      1.0\n",
       "3287    1.0\n",
       "Name: Churn, dtype: float32"
      ]
     },
     "execution_count": 103,
     "metadata": {},
     "output_type": "execute_result"
    }
   ],
   "source": [
    "y_test[:5]"
   ]
  },
  {
   "cell_type": "code",
   "execution_count": 105,
   "id": "196100ce",
   "metadata": {},
   "outputs": [],
   "source": [
    "y_pred=[]\n",
    "for i in y_predicted:\n",
    "        if i>0.5:\n",
    "            y_pred.append(1)\n",
    "        else:\n",
    "            y_pred.append(0)"
   ]
  },
  {
   "cell_type": "code",
   "execution_count": 108,
   "id": "27bb7e88",
   "metadata": {},
   "outputs": [
    {
     "data": {
      "text/plain": [
       "[0, 0, 0, 1, 0, 1, 0, 0, 0, 0]"
      ]
     },
     "execution_count": 108,
     "metadata": {},
     "output_type": "execute_result"
    }
   ],
   "source": [
    "y_pred[:10]"
   ]
  },
  {
   "cell_type": "code",
   "execution_count": 109,
   "id": "d57c37af",
   "metadata": {},
   "outputs": [
    {
     "data": {
      "text/plain": [
       "2660    0.0\n",
       "744     0.0\n",
       "5579    1.0\n",
       "64      1.0\n",
       "3287    1.0\n",
       "816     1.0\n",
       "2670    0.0\n",
       "5920    0.0\n",
       "1023    0.0\n",
       "6087    0.0\n",
       "Name: Churn, dtype: float32"
      ]
     },
     "execution_count": 109,
     "metadata": {},
     "output_type": "execute_result"
    }
   ],
   "source": [
    "y_test[:10]"
   ]
  },
  {
   "cell_type": "code",
   "execution_count": 110,
   "id": "9607e793",
   "metadata": {},
   "outputs": [
    {
     "name": "stdout",
     "output_type": "stream",
     "text": [
      "              precision    recall  f1-score   support\n",
      "\n",
      "         0.0       0.83      0.88      0.85       999\n",
      "         1.0       0.65      0.57      0.61       408\n",
      "\n",
      "    accuracy                           0.79      1407\n",
      "   macro avg       0.74      0.72      0.73      1407\n",
      "weighted avg       0.78      0.79      0.78      1407\n",
      "\n"
     ]
    }
   ],
   "source": [
    "from sklearn.metrics import confusion_matrix, classification_report\n",
    "print(classification_report(y_test,y_pred))"
   ]
  },
  {
   "cell_type": "code",
   "execution_count": 111,
   "id": "031a1159",
   "metadata": {},
   "outputs": [],
   "source": [
    "import seaborn as sn\n",
    "cm=tf.math.confusion_matrix(labels=y_test,predictions=y_pred)"
   ]
  },
  {
   "cell_type": "code",
   "execution_count": 112,
   "id": "5ad1c77d",
   "metadata": {},
   "outputs": [
    {
     "data": {
      "image/png": "[encoded data removed]",
      "text/plain": [
       "<Figure size 1000x700 with 2 Axes>"
      ]
     },
     "metadata": {},
     "output_type": "display_data"
    }
   ],
   "source": [
    "plt.figure(figsize=(10,7))\n",
    "sn.heatmap(cm,annot=True,fmt='d')\n",
    "plt.xlabel=(\"Predicted\")\n",
    "plt.ylabel=(\"Truth\")\n"
   ]
  },
  {
   "cell_type": "code",
   "execution_count": null,
   "id": "27e04a31",
   "metadata": {},
   "outputs": [],
   "source": []
  }
 ],
 "metadata": {
  "kernelspec": {
   "display_name": "Python 3 (ipykernel)",
   "language": "python",
   "name": "python3"
  },
  "language_info": {
   "codemirror_mode": {
    "name": "ipython",
    "version": 3
   },
   "file_extension": ".py",
   "mimetype": "text/x-python",
   "name": "python",
   "nbconvert_exporter": "python",
   "pygments_lexer": "ipython3",
   "version": "3.11.5"
  }
 },
 "nbformat": 4,
 "nbformat_minor": 5
}
